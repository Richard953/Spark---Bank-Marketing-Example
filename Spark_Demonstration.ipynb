{
  "nbformat": 4,
  "nbformat_minor": 0,
  "metadata": {
    "colab": {
      "name": "Spark_Demonstration.ipynb",
      "provenance": [],
      "collapsed_sections": []
    },
    "language_info": {
      "mimetype": "text/x-python",
      "nbconvert_exporter": "python",
      "version": "3.5.5",
      "name": "python",
      "file_extension": ".py",
      "pygments_lexer": "ipython3",
      "codemirror_mode": {
        "version": 3,
        "name": "ipython"
      }
    },
    "kernelspec": {
      "display_name": "Python 3.5",
      "name": "python3",
      "language": "python"
    }
  },
  "cells": [
    {
      "cell_type": "markdown",
      "metadata": {
        "id": "view-in-github",
        "colab_type": "text"
      },
      "source": [
        "<a href=\"https://colab.research.google.com/github/jilliant/group76/blob/master/Group76_SIT742Assignment2.ipynb\" target=\"_parent\"><img src=\"https://colab.research.google.com/assets/colab-badge.svg\" alt=\"Open In Colab\"/></a>"
      ]
    },
    {
      "cell_type": "markdown",
      "metadata": {
        "id": "_th7e2nu0At7",
        "colab_type": "text"
      },
      "source": [
        "# Spark Demonstration\n",
        "During my career I have heard the term ‘Big Data’ used frequently when discussing the challenges faced by companies in deriving intelligence from their stored data. I have heard many definitions for what defines big data but personally believe that it comes down to the time required in strategising how to deal with the data in question. Essentially, if your dataset is large and complex enough that you are having to spend sufficient time pre-planning your ETL as well as the analysis/ modelling then you are likely dealing with what industry considers as 'big data'. Luckily over the last decade or so there have been some rather remarkable advancements in distributed data computations to address the problems that arise when dealing with big data.\n",
        "\n",
        "\n",
        "In the example below I demonstrate how Apache Spark™ can be used to process and model big data distributed across a cluster of multiple cooperating physical or virtual servers. The code below was written on Google Colab. As such, windows and mac users will have to setup Spark in a different manner than used below. For more information I suggest looking at [the offical Spark webpage](http://spark.apache.org/docs/latest/building-spark.html)\n",
        "\n",
        "The dataset used in example is the Bank Marketing dataset from https://archive.ics.uci.edu/ml/datasets/Bank+Marketing which has been previously used in various Kaggle competitions and training exercises."
      ]
    },
    {
      "cell_type": "markdown",
      "metadata": {
        "colab_type": "text",
        "id": "eASNvREtBU9G"
      },
      "source": [
        "## Import Spark and prepare the session\n",
        "Begin by first importing the required packages, including Spark (which you will need to install using pip)"
      ]
    },
    {
      "cell_type": "code",
      "metadata": {
        "colab_type": "code",
        "id": "duCJfMrnGu00",
        "cellView": "code",
        "outputId": "981e4417-e19d-41fd-9538-b1635da50d92",
        "colab": {
          "base_uri": "https://localhost:8080/",
          "height": 35
        }
      },
      "source": [
        "# import required packages\n",
        "!pip install wget\n",
        "!apt-get install openjdk-8-jdk-headless -qq > /dev/null\n",
        "!wget -q https://archive.apache.org/dist/spark/spark-2.4.0/spark-2.4.0-bin-hadoop2.7.tgz\n",
        "!tar xf spark-2.4.0-bin-hadoop2.7.tgz\n",
        "!pip install -q findspark\n",
        "import os\n",
        "os.environ[\"JAVA_HOME\"] = \"/usr/lib/jvm/java-8-openjdk-amd64\"\n",
        "os.environ[\"SPARK_HOME\"] = \"/content/spark-2.4.0-bin-hadoop2.7\""
      ],
      "execution_count": 0,
      "outputs": [
        {
          "output_type": "stream",
          "text": [
            "Requirement already satisfied: wget in /usr/local/lib/python3.6/dist-packages (3.2)\n"
          ],
          "name": "stdout"
        }
      ]
    },
    {
      "cell_type": "code",
      "metadata": {
        "colab_type": "code",
        "id": "aGOo805LA-fM",
        "colab": {}
      },
      "source": [
        "# Establish the Spark session\n",
        "import findspark\n",
        "findspark.init()\n",
        "from pyspark.sql import SparkSession "
      ],
      "execution_count": 0,
      "outputs": []
    },
    {
      "cell_type": "markdown",
      "metadata": {
        "colab_type": "text",
        "id": "K7bEtO_fBZmE"
      },
      "source": [
        "## Read in and check data\n",
        "For this example I have downloaded a copy the Bank Marketing dataset onto my github. This way you can link directly to the git file. The orginal source for data is [found in this link](https://archive.ics.uci.edu/ml/datasets/Bank+Marketing)"
      ]
    },
    {
      "cell_type": "code",
      "metadata": {
        "id": "EADPspOv0Auh",
        "colab_type": "code",
        "colab": {}
      },
      "source": [
        "# Download the data (I have included a link to my github copy of the file; bank.csv)\n",
        "import wget\n",
        "link_to_data = \"https://raw.githubusercontent.com/Richard953/Spark---Bank-Marketing-Example/master/bank.csv\"\n",
        "DataSet = wget.download(link_to_data)\n",
        "\n",
        "# I would advise always checking to see if the file is in your directory before continuing."
      ],
      "execution_count": 0,
      "outputs": []
    },
    {
      "cell_type": "code",
      "metadata": {
        "colab_type": "code",
        "id": "FQ8Ts9eZBA-M",
        "outputId": "7bb896a1-a47f-4546-8314-7e1305709a22",
        "colab": {
          "base_uri": "https://localhost:8080/",
          "height": 537
        }
      },
      "source": [
        "# Import the \"bank.csv\" as a Spark dataframe\n",
        "spark = SparkSession.builder.appName(\"ml-bank\").getOrCreate()\n",
        "df = spark.read.csv(\"bank.csv\", header = True, inferSchema = True) \n",
        "\n",
        "# Once the Spark dataframe has been created, run a quick check to see what the data looks like\n",
        "df.printSchema() \n",
        "df.show(5)"
      ],
      "execution_count": 0,
      "outputs": [
        {
          "output_type": "stream",
          "text": [
            "root\n",
            " |-- age: integer (nullable = true)\n",
            " |-- job: string (nullable = true)\n",
            " |-- marital: string (nullable = true)\n",
            " |-- education: string (nullable = true)\n",
            " |-- default: string (nullable = true)\n",
            " |-- balance: integer (nullable = true)\n",
            " |-- housing: string (nullable = true)\n",
            " |-- loan: string (nullable = true)\n",
            " |-- contact: string (nullable = true)\n",
            " |-- day: integer (nullable = true)\n",
            " |-- month: string (nullable = true)\n",
            " |-- duration: integer (nullable = true)\n",
            " |-- campaign: integer (nullable = true)\n",
            " |-- pdays: integer (nullable = true)\n",
            " |-- previous: integer (nullable = true)\n",
            " |-- poutcome: string (nullable = true)\n",
            " |-- deposit: string (nullable = true)\n",
            "\n",
            "+---+----------+-------+---------+-------+-------+-------+----+-------+---+-----+--------+--------+-----+--------+--------+-------+\n",
            "|age|       job|marital|education|default|balance|housing|loan|contact|day|month|duration|campaign|pdays|previous|poutcome|deposit|\n",
            "+---+----------+-------+---------+-------+-------+-------+----+-------+---+-----+--------+--------+-----+--------+--------+-------+\n",
            "| 59|    admin.|married|secondary|     no|   2343|    yes|  no|unknown|  5|  may|    1042|       1|   -1|       0| unknown|    yes|\n",
            "| 56|    admin.|married|secondary|     no|     45|     no|  no|unknown|  5|  may|    1467|       1|   -1|       0| unknown|    yes|\n",
            "| 41|technician|married|secondary|     no|   1270|    yes|  no|unknown|  5|  may|    1389|       1|   -1|       0| unknown|    yes|\n",
            "| 55|  services|married|secondary|     no|   2476|    yes|  no|unknown|  5|  may|     579|       1|   -1|       0| unknown|    yes|\n",
            "| 54|    admin.|married| tertiary|     no|    184|     no|  no|unknown|  5|  may|     673|       2|   -1|       0| unknown|    yes|\n",
            "+---+----------+-------+---------+-------+-------+-------+----+-------+---+-----+--------+--------+-----+--------+--------+-------+\n",
            "only showing top 5 rows\n",
            "\n"
          ],
          "name": "stdout"
        }
      ]
    },
    {
      "cell_type": "markdown",
      "metadata": {
        "colab_type": "text",
        "id": "wKQMhrtFChHa"
      },
      "source": [
        "## Feature Selecting\n",
        "For this example I selected specfic variables and formed a new data frame (df2). I then remove the invalid rows/records using spark.sql before converting categorical features to metric features using One hot encoding. I am essentially getting ready to pass the data through a pipeline (which will handle the one-hot encoding and normalisation; so I can run certain models)."
      ]
    },
    {
      "cell_type": "code",
      "metadata": {
        "colab_type": "code",
        "id": "VU5xMqN_RyM2",
        "outputId": "262a8423-bd68-49a8-f4aa-054bbe575068",
        "colab": {
          "base_uri": "https://localhost:8080/",
          "height": 208
        }
      },
      "source": [
        "# select features (\"age\", \"job\", \"marital\", \"education\", \"default\", \"balance\", \"housing\", \"loan\", \"campaign\", \"pdays\", \"previous\", \"poutcome\", \"deposit\") as df2\n",
        "col_names = list([\"age\", \"job\", \"marital\", \"education\", \"default\", \"balance\", \"housing\", \"loan\", \"campaign\", \"pdays\", \"previous\", \"poutcome\", \"deposit\"])\n",
        "\n",
        "# check the data, notice that some cleaning will need to be done before we can begin feeding the dataframe into a Spark pipline.\n",
        "# Check to to see if there are any 'unkown' values for the attributes.\n",
        "df2 = df.select(col_names)\n",
        "df2.show(5)"
      ],
      "execution_count": 0,
      "outputs": [
        {
          "output_type": "stream",
          "text": [
            "+---+----------+-------+---------+-------+-------+-------+----+--------+-----+--------+--------+-------+\n",
            "|age|       job|marital|education|default|balance|housing|loan|campaign|pdays|previous|poutcome|deposit|\n",
            "+---+----------+-------+---------+-------+-------+-------+----+--------+-----+--------+--------+-------+\n",
            "| 59|    admin.|married|secondary|     no|   2343|    yes|  no|       1|   -1|       0| unknown|    yes|\n",
            "| 56|    admin.|married|secondary|     no|     45|     no|  no|       1|   -1|       0| unknown|    yes|\n",
            "| 41|technician|married|secondary|     no|   1270|    yes|  no|       1|   -1|       0| unknown|    yes|\n",
            "| 55|  services|married|secondary|     no|   2476|    yes|  no|       1|   -1|       0| unknown|    yes|\n",
            "| 54|    admin.|married| tertiary|     no|    184|     no|  no|       2|   -1|       0| unknown|    yes|\n",
            "+---+----------+-------+---------+-------+-------+-------+----+--------+-----+--------+--------+-------+\n",
            "only showing top 5 rows\n",
            "\n"
          ],
          "name": "stdout"
        }
      ]
    },
    {
      "cell_type": "code",
      "metadata": {
        "id": "sUapmgb5aBmm",
        "colab_type": "code",
        "outputId": "d999f0be-4014-4204-935c-796e28eed09c",
        "colab": {
          "base_uri": "https://localhost:8080/",
          "height": 208
        }
      },
      "source": [
        "#Remove invalid rows/records using spark.sql \n",
        "\n",
        "#row is invalid if at least one of its attributes contains \"unknown\". For the attribute \"poutcome\", the valid values are \"failure\" and \"success\"\n",
        "df2 = df2.filter(df2.job != \"unknown\") \\\n",
        ".filter(df2.marital != \"unknown\") \\\n",
        ".filter(df2.education != \"unknown\") \\\n",
        ".filter(df2.default != \"unknown\") \\\n",
        ".filter(df2.housing != \"unknown\") \\\n",
        ".filter(df2.loan != \"unknown\") \\\n",
        ".filter(df2.deposit != \"unknown\") \\\n",
        ".filter(df2.poutcome.isin(list([\"failure\", \"success\"])))  \n",
        "\n",
        "# check the data\n",
        "df2.show(5)"
      ],
      "execution_count": 0,
      "outputs": [
        {
          "output_type": "stream",
          "text": [
            "+---+----------+-------+---------+-------+-------+-------+----+--------+-----+--------+--------+-------+\n",
            "|age|       job|marital|education|default|balance|housing|loan|campaign|pdays|previous|poutcome|deposit|\n",
            "+---+----------+-------+---------+-------+-------+-------+----+--------+-----+--------+--------+-------+\n",
            "| 33|  services|married|secondary|     no|   3444|    yes|  no|       1|   91|       4| failure|    yes|\n",
            "| 56|technician|married|secondary|     no|    589|    yes|  no|       1|  147|       2| success|    yes|\n",
            "| 34|    admin.|married| tertiary|     no|    899|    yes|  no|       1|  170|       3| failure|    yes|\n",
            "| 53|   retired|married| tertiary|     no|   2269|     no|  no|       2|  150|       1| success|    yes|\n",
            "| 37|technician|married|secondary|     no|   5115|    yes|  no|       2|  171|       4| failure|    yes|\n",
            "+---+----------+-------+---------+-------+-------+-------+----+--------+-----+--------+--------+-------+\n",
            "only showing top 5 rows\n",
            "\n"
          ],
          "name": "stdout"
        }
      ]
    },
    {
      "cell_type": "markdown",
      "metadata": {
        "id": "AnPk_CIYtOqf",
        "colab_type": "text"
      },
      "source": [
        "## Pipeline\n",
        "Once we have our cleaned Spark dataframe we can begin constructing a pipeline. The main concept behind pipelines is to combine complex algorithms and transformations to create a workflow. Because Spark utilises lazy evaluation, the use of pipelines is preferable in transforming features and training machine learning models. Within most pipelines you will be able to: \n",
        "* Index categorial features\n",
        "* Encode to one hot vectors\n",
        "* Assemble to a feature vector\n",
        "* Normalise features for model use\n",
        "* Train model\n",
        "\n",
        "These steps can be run as a sequence of pipeline stages to form a workflow. The data pre-processing part will be a bunch of transformers (like the one hot encoder) and estimators that will be fit to the input dataframe.\n"
      ]
    },
    {
      "cell_type": "code",
      "metadata": {
        "id": "FIVncJMjr4VW",
        "colab_type": "code",
        "colab": {}
      },
      "source": [
        "# Covert categorical features to metric features using One hot encoding\n",
        "# This is required if you want to analyse categorical features in a Spark pipeline.\n",
        "\n",
        "# import the packages \n",
        "from pyspark.ml.feature import OneHotEncoderEstimator, StringIndexer, VectorAssembler\n",
        "from pyspark.ml import Pipeline\n",
        "\n",
        "# set up the column information \n",
        "cols = df2.columns\n",
        "numericColumns = [\"age\", \"balance\", \"campaign\", \"pdays\", \"previous\"]\n",
        "categoricalColumns = [\"job\", \"marital\", \"education\", \"default\", \"housing\", \"loan\",\"poutcome\"]\n",
        "\n",
        "# the data preparation (One Hot Encoding and Normilsation) will be done through a pipeline here we are initializing the shell for the pipeline stages\n",
        "stages = []\n",
        "\n",
        "# use One Hot Encoding on the catagorical predictor variables to convert them to numeric values\n",
        "for categoricalCol in categoricalColumns:\n",
        "    stringIndexer = StringIndexer(inputCol = categoricalCol, outputCol = categoricalCol + \"Index\")\n",
        "    encoder = OneHotEncoderEstimator(inputCols=[stringIndexer.getOutputCol()], outputCols=[categoricalCol + \"classVec\"])\n",
        "    stages += [stringIndexer, encoder]\n",
        "\n",
        "# convert \"deposit\" the outcome variable to a numeric\n",
        "label_stringIdx = StringIndexer(inputCol = \"deposit\", outputCol = \"label\")\n",
        "stages += [label_stringIdx]\n",
        "\n",
        "# bring everything together into a nest array in the dataframe\n",
        "assemblerInputs = [c + \"classVec\" for c in categoricalColumns] + numericColumns\n",
        "assembler = VectorAssembler(inputCols=assemblerInputs, outputCol=\"featuresVec\")\n",
        "stages += [assembler]"
      ],
      "execution_count": 0,
      "outputs": []
    },
    {
      "cell_type": "markdown",
      "metadata": {
        "colab_type": "text",
        "id": "pOqHERYJCQuC"
      },
      "source": [
        "### Normalisation\n",
        "\n",
        "In this instance I have applied my normalisation using a min-max scaler. Take note of how nothing is actioned immedietly (due to the lazy evaluation method used in Spark). Only when the pipeline is run will all the pre-prepared actions be engaged."
      ]
    },
    {
      "cell_type": "code",
      "metadata": {
        "id": "f_IwohqQEJFE",
        "colab_type": "code",
        "outputId": "70604049-d5e7-425f-cc7c-95220e922889",
        "colab": {
          "base_uri": "https://localhost:8080/",
          "height": 540
        }
      },
      "source": [
        "#Apply Min-Max normalisation on each attribute using MinMaxScaler  \n",
        "\n",
        "# import the packages \n",
        "from pyspark.ml.feature import MinMaxScaler \n",
        "\n",
        "# add the Min-Max normalisation to the pipeline\n",
        "scaler = MinMaxScaler(inputCol=\"featuresVec\", outputCol=\"features\")\n",
        "stages += [scaler]\n",
        "\n",
        "# Run the pipeline to apply the One Hot Encoding and Normilsation to the data\n",
        "pipeline = Pipeline(stages = stages)\n",
        "pipelineModel = pipeline.fit(df2)\n",
        "df2 = pipelineModel.transform(df2)\n",
        "selectedCols = [\"label\", \"featuresVec\",\"features\"] + cols\n",
        "df2 = df2.select(selectedCols)\n",
        "\n",
        "# check the data\n",
        "df2.printSchema()\n",
        "df2.show(5)"
      ],
      "execution_count": 0,
      "outputs": [
        {
          "output_type": "stream",
          "text": [
            "root\n",
            " |-- label: double (nullable = false)\n",
            " |-- featuresVec: vector (nullable = true)\n",
            " |-- features: vector (nullable = true)\n",
            " |-- age: integer (nullable = true)\n",
            " |-- job: string (nullable = true)\n",
            " |-- marital: string (nullable = true)\n",
            " |-- education: string (nullable = true)\n",
            " |-- default: string (nullable = true)\n",
            " |-- balance: integer (nullable = true)\n",
            " |-- housing: string (nullable = true)\n",
            " |-- loan: string (nullable = true)\n",
            " |-- campaign: integer (nullable = true)\n",
            " |-- pdays: integer (nullable = true)\n",
            " |-- previous: integer (nullable = true)\n",
            " |-- poutcome: string (nullable = true)\n",
            " |-- deposit: string (nullable = true)\n",
            "\n",
            "+-----+--------------------+--------------------+---+----------+-------+---------+-------+-------+-------+----+--------+-----+--------+--------+-------+\n",
            "|label|         featuresVec|            features|age|       job|marital|education|default|balance|housing|loan|campaign|pdays|previous|poutcome|deposit|\n",
            "+-----+--------------------+--------------------+---+----------+-------+---------+-------+-------+-------+----+--------+-----+--------+--------+-------+\n",
            "|  0.0|(23,[5,10,12,14,1...|[0.0,0.0,0.0,0.0,...| 33|  services|married|secondary|     no|   3444|    yes|  no|       1|   91|       4| failure|    yes|\n",
            "|  0.0|(23,[1,10,12,14,1...|[0.0,1.0,0.0,0.0,...| 56|technician|married|secondary|     no|    589|    yes|  no|       1|  147|       2| success|    yes|\n",
            "|  0.0|(23,[2,10,13,14,1...|[0.0,0.0,1.0,0.0,...| 34|    admin.|married| tertiary|     no|    899|    yes|  no|       1|  170|       3| failure|    yes|\n",
            "|  0.0|(23,[4,10,13,14,1...|[0.0,0.0,0.0,0.0,...| 53|   retired|married| tertiary|     no|   2269|     no|  no|       2|  150|       1| success|    yes|\n",
            "|  0.0|(23,[1,10,12,14,1...|[0.0,1.0,0.0,0.0,...| 37|technician|married|secondary|     no|   5115|    yes|  no|       2|  171|       4| failure|    yes|\n",
            "+-----+--------------------+--------------------+---+----------+-------+---------+-------+-------+-------+----+--------+-----+--------+--------+-------+\n",
            "only showing top 5 rows\n",
            "\n"
          ],
          "name": "stdout"
        }
      ]
    },
    {
      "cell_type": "markdown",
      "metadata": {
        "colab_type": "text",
        "id": "9trUY7ZgCzhW"
      },
      "source": [
        "# Application of Models \n",
        "\n",
        "Now all the cleaning and vectorising of the data has been taken care of we can begin to run our desired models on the data."
      ]
    },
    {
      "cell_type": "markdown",
      "metadata": {
        "colab_type": "text",
        "id": "KTQfUch2Cmmi"
      },
      "source": [
        "### K-means example\n",
        "This is a bit of an unconventional application of the K-means; using the algorithm to create a model with two groups that can be tested against the whether or not a deposit was made (which has only two possible outcomes). In this instance the k-means is being used as a predictor model rather than as an unsupervised model."
      ]
    },
    {
      "cell_type": "code",
      "metadata": {
        "colab_type": "code",
        "id": "dGGZI70Ohqgg",
        "outputId": "75d06e13-4494-4f17-d2e2-29f3026e10d4",
        "colab": {
          "base_uri": "https://localhost:8080/",
          "height": 228
        }
      },
      "source": [
        "# Perform unsupervised learning on the dataframe designated as df2 with k-means model \n",
        "# You can use whole df2 as both training and testing data.\n",
        "# Note: I have evaluate the clustering result using Accuracy.  \n",
        "\n",
        "# import the packages\n",
        "from pyspark.ml.clustering import KMeans\n",
        "from pyspark.ml.evaluation import MulticlassClassificationEvaluator\n",
        "from pyspark.sql.types import DoubleType\n",
        "\n",
        "# train a K-means model\n",
        "# k is set to two because deposit only has 2 values (yes and no)\n",
        "kmeans = KMeans(predictionCol = \"kmeans_prediction\").setK(2).setSeed(76)\n",
        "model = kmeans.fit(df2)\n",
        "\n",
        "# use the K-means model the predicte the value of deposit\n",
        "predictions = model.transform(df2)\n",
        "\n",
        "# check the data\n",
        "predictions.show(5) \n",
        "\n",
        "# change prediction value to doubble so that it can be used in MulticlassClassificationEvaluator\n",
        "predictions = predictions.withColumn(\"kmeans_prediction\", predictions[\"kmeans_prediction\"].cast(DoubleType()))"
      ],
      "execution_count": 0,
      "outputs": [
        {
          "output_type": "stream",
          "text": [
            "+-----+--------------------+--------------------+---+----------+-------+---------+-------+-------+-------+----+--------+-----+--------+--------+-------+-----------------+\n",
            "|label|         featuresVec|            features|age|       job|marital|education|default|balance|housing|loan|campaign|pdays|previous|poutcome|deposit|kmeans_prediction|\n",
            "+-----+--------------------+--------------------+---+----------+-------+---------+-------+-------+-------+----+--------+-----+--------+--------+-------+-----------------+\n",
            "|  0.0|(23,[5,10,12,14,1...|[0.0,0.0,0.0,0.0,...| 33|  services|married|secondary|     no|   3444|    yes|  no|       1|   91|       4| failure|    yes|                1|\n",
            "|  0.0|(23,[1,10,12,14,1...|[0.0,1.0,0.0,0.0,...| 56|technician|married|secondary|     no|    589|    yes|  no|       1|  147|       2| success|    yes|                1|\n",
            "|  0.0|(23,[2,10,13,14,1...|[0.0,0.0,1.0,0.0,...| 34|    admin.|married| tertiary|     no|    899|    yes|  no|       1|  170|       3| failure|    yes|                0|\n",
            "|  0.0|(23,[4,10,13,14,1...|[0.0,0.0,0.0,0.0,...| 53|   retired|married| tertiary|     no|   2269|     no|  no|       2|  150|       1| success|    yes|                0|\n",
            "|  0.0|(23,[1,10,12,14,1...|[0.0,1.0,0.0,0.0,...| 37|technician|married|secondary|     no|   5115|    yes|  no|       2|  171|       4| failure|    yes|                1|\n",
            "+-----+--------------------+--------------------+---+----------+-------+---------+-------+-------+-------+----+--------+-----+--------+--------+-------+-----------------+\n",
            "only showing top 5 rows\n",
            "\n"
          ],
          "name": "stdout"
        }
      ]
    },
    {
      "cell_type": "code",
      "metadata": {
        "id": "5hp8wsS4JF_Y",
        "colab_type": "code",
        "outputId": "ce50178f-1dcc-454e-f083-3d823f9b86ae",
        "colab": {
          "base_uri": "https://localhost:8080/",
          "height": 35
        }
      },
      "source": [
        "# evaluate the culusters using Accuracy\n",
        "evaluator = MulticlassClassificationEvaluator(predictionCol=\"kmeans_prediction\", metricName=\"accuracy\")\n",
        "evaluator.evaluate(predictions)\n",
        "print(\"The accuracy of the K-means model on the test data is:\", round(evaluator.evaluate(predictions), 2))"
      ],
      "execution_count": 0,
      "outputs": [
        {
          "output_type": "stream",
          "text": [
            "The accuracy of the K-means model on the test data is: 0.52\n"
          ],
          "name": "stdout"
        }
      ]
    },
    {
      "cell_type": "markdown",
      "metadata": {
        "colab_type": "text",
        "id": "FHom8o2KCt36"
      },
      "source": [
        "## PCA\n",
        "The new dimensions formed in the PCA are ranked according to the variance of data along them, where the first component explains the most variation in the data and so on.\n",
        "\n",
        "The below plot shows the distribution of the data on the first and second principle components. As can be seen in the plot there appears to be about six groups in the data."
      ]
    },
    {
      "cell_type": "code",
      "metadata": {
        "colab_type": "code",
        "id": "wT4cx5uGTjmj",
        "outputId": "71c5c5c6-df16-4f5d-89eb-514c7d561d3b",
        "colab": {
          "base_uri": "https://localhost:8080/",
          "height": 313
        }
      },
      "source": [
        "#Generate a scatter plot using the first two PCA components to investigate the data distribution.\n",
        "\n",
        "#import the packages\n",
        "from pyspark.ml.feature import PCA\n",
        "from pyspark.ml.linalg import Vectors\n",
        "from pyspark.sql.functions import udf\n",
        "from pyspark.sql.types import FloatType\n",
        "\n",
        "# build the PCA\n",
        "pca = PCA(k=2, inputCol=\"features\", outputCol=\"PCAFeatures\")\n",
        "PCAModel = pca.fit(df2)\n",
        "PCAResult = PCAModel.transform(df2).select(\"PCAFeatures\")\n",
        "\n",
        "# unpack the values of the PCA so that they can be used in plotting  \n",
        "firstelement=udf(lambda v:float(v[0]),FloatType())\n",
        "secondelement=udf(lambda v:float(v[1]),FloatType())\n",
        "PCAResult = PCAResult.select(firstelement(\"PCAFeatures\").alias(\"PCA_1\"), secondelement(\"PCAFeatures\").alias(\"PCA_2\"))\n",
        "\n",
        "# make the plot\n",
        "PCAResult.toPandas().plot.scatter(x = \"PCA_1\", y = \"PCA_2\", title= \"First two Principle Components\")"
      ],
      "execution_count": 0,
      "outputs": [
        {
          "output_type": "execute_result",
          "data": {
            "text/plain": [
              "<matplotlib.axes._subplots.AxesSubplot at 0x7fc18c134940>"
            ]
          },
          "metadata": {
            "tags": []
          },
          "execution_count": 29
        },
        {
          "output_type": "display_data",
          "data": {
            "image/png": "[encoded data removed]",
            "text/plain": [
              "<Figure size 432x288 with 1 Axes>"
            ]
          },
          "metadata": {
            "tags": []
          }
        }
      ]
    },
    {
      "cell_type": "markdown",
      "metadata": {
        "colab_type": "text",
        "id": "ulp_uILXCv4Z"
      },
      "source": [
        "# Supervised learning\n",
        "In these example I have generated various models to predict if a customer is to make a deposit(as such deposit is the label).\n",
        "\n",
        "To build each of the models the data was split into a training set (70% of the data) on which the models were built and test set (30% of the data) which the accuracy of the models was calculated.\n",
        "\n",
        "Kfold cross validation, with a k of 5, and grid search were used to select the best parameters for each of the supervised models. Kfold cross validation randomly segments the data into data into k data sets, where k-1 data sets are used to train the model and the final data set is used to evaluate it. The process is repeated k times and every data point is used to train the model. While grid search is a method of iterating through a list of given parameters of a model to determine the best combination."
      ]
    },
    {
      "cell_type": "code",
      "metadata": {
        "colab_type": "code",
        "id": "0O7tszcPfnHN",
        "outputId": "a0dbf4b0-b3b0-4f0c-d3e8-9d388e997a1c",
        "colab": {
          "base_uri": "https://localhost:8080/",
          "height": 52
        }
      },
      "source": [
        "# split the data into training and test sets\n",
        "train, test = df2.randomSplit([0.7, 0.3], seed = 742)\n",
        "print(\"Training Dataset Count: \" + str(train.count()))\n",
        "print(\"Test Dataset Count: \" + str(test.count()))"
      ],
      "execution_count": 0,
      "outputs": [
        {
          "output_type": "stream",
          "text": [
            "Training Dataset Count: 1535\n",
            "Test Dataset Count: 646\n"
          ],
          "name": "stdout"
        }
      ]
    },
    {
      "cell_type": "markdown",
      "metadata": {
        "colab_type": "text",
        "id": "2SsHdh7YC-eN"
      },
      "source": [
        "## LogisticRegression\n",
        "The Binomial Logistic regression predicts whether an observation falls into one of two categories based on a series of Bernoulli trials."
      ]
    },
    {
      "cell_type": "code",
      "metadata": {
        "id": "9hU3wuHkcfrB",
        "colab_type": "code",
        "colab": {}
      },
      "source": [
        "# import the packages\n",
        "from pyspark.ml.evaluation import MulticlassClassificationEvaluator\n",
        "from pyspark.ml.tuning import CrossValidator, ParamGridBuilder\n",
        "from pyspark.ml.classification import LogisticRegression\n",
        "\n",
        "# define the model\n",
        "lr_pram = LogisticRegression(predictionCol = \"lr_predictions\")\n",
        "\n",
        "# set up the grid\n",
        "lr_param_grid = ParamGridBuilder() \\\n",
        "    .addGrid(lr_pram.maxIter, [10, 15, 20]) \\\n",
        "    .addGrid(lr_pram.regParam, [0, 0.01, 0.1, 0.5, 0.8]) \\\n",
        "    .addGrid(lr_pram.elasticNetParam, [0, 0.5, 1]) \\\n",
        "    .build()\n",
        "\n",
        "# cross validate the modle with the gride values\n",
        "lr_crossval = CrossValidator(estimator = lr_pram,\n",
        "                          estimatorParamMaps = lr_param_grid,\n",
        "                          evaluator = MulticlassClassificationEvaluator(predictionCol = \"lr_predictions\", metricName=\"accuracy\"),\n",
        "                          numFolds = 5,\n",
        "                          seed = 76) \n",
        "\n",
        "# Run cross-validation, and choose the best set of parameters.\n",
        "lr_crossval = lr_crossval.fit(train)"
      ],
      "execution_count": 0,
      "outputs": []
    },
    {
      "cell_type": "code",
      "metadata": {
        "id": "AOFk6wJIe4rP",
        "colab_type": "code",
        "outputId": "fe80ec1b-8274-4470-bfd1-a693c33649e9",
        "colab": {
          "base_uri": "https://localhost:8080/",
          "height": 280
        }
      },
      "source": [
        "# get the paramaters of the best model\n",
        "lr_crossval.bestModel.extractParamMap()"
      ],
      "execution_count": 0,
      "outputs": [
        {
          "output_type": "execute_result",
          "data": {
            "text/plain": [
              "{Param(parent='LogisticRegression_4c83aebc3b21', name='aggregationDepth', doc='suggested depth for treeAggregate (>= 2)'): 2,\n",
              " Param(parent='LogisticRegression_4c83aebc3b21', name='elasticNetParam', doc='the ElasticNet mixing parameter, in range [0, 1]. For alpha = 0, the penalty is an L2 penalty. For alpha = 1, it is an L1 penalty'): 0.5,\n",
              " Param(parent='LogisticRegression_4c83aebc3b21', name='family', doc='The name of family which is a description of the label distribution to be used in the model. Supported options: auto, binomial, multinomial.'): 'auto',\n",
              " Param(parent='LogisticRegression_4c83aebc3b21', name='featuresCol', doc='features column name'): 'features',\n",
              " Param(parent='LogisticRegression_4c83aebc3b21', name='fitIntercept', doc='whether to fit an intercept term'): True,\n",
              " Param(parent='LogisticRegression_4c83aebc3b21', name='labelCol', doc='label column name'): 'label',\n",
              " Param(parent='LogisticRegression_4c83aebc3b21', name='maxIter', doc='maximum number of iterations (>= 0)'): 15,\n",
              " Param(parent='LogisticRegression_4c83aebc3b21', name='predictionCol', doc='prediction column name'): 'lr_predictions',\n",
              " Param(parent='LogisticRegression_4c83aebc3b21', name='probabilityCol', doc='Column name for predicted class conditional probabilities. Note: Not all models output well-calibrated probability estimates! These probabilities should be treated as confidences, not precise probabilities'): 'probability',\n",
              " Param(parent='LogisticRegression_4c83aebc3b21', name='rawPredictionCol', doc='raw prediction (a.k.a. confidence) column name'): 'rawPrediction',\n",
              " Param(parent='LogisticRegression_4c83aebc3b21', name='regParam', doc='regularization parameter (>= 0)'): 0.01,\n",
              " Param(parent='LogisticRegression_4c83aebc3b21', name='standardization', doc='whether to standardize the training features before fitting the model'): True,\n",
              " Param(parent='LogisticRegression_4c83aebc3b21', name='threshold', doc='threshold in binary classification prediction, in range [0, 1]'): 0.5,\n",
              " Param(parent='LogisticRegression_4c83aebc3b21', name='tol', doc='the convergence tolerance for iterative algorithms (>= 0)'): 1e-06}"
            ]
          },
          "metadata": {
            "tags": []
          },
          "execution_count": 32
        }
      ]
    },
    {
      "cell_type": "code",
      "metadata": {
        "id": "CNErsMm2e-4A",
        "colab_type": "code",
        "outputId": "3f3e3bf9-5f5b-4e3b-ad26-9c7a53a9d573",
        "colab": {
          "base_uri": "https://localhost:8080/",
          "height": 35
        }
      },
      "source": [
        "# run over test the data\n",
        "predictions = lr_crossval.transform(test)\n",
        "\n",
        "# get the accuracy on the test data\n",
        "evaluator = MulticlassClassificationEvaluator(predictionCol = \"lr_predictions\", metricName=\"accuracy\")\n",
        "print(\"The accuracy of the Logistic Regression model on the test data is:\", round(evaluator.evaluate(predictions),2))"
      ],
      "execution_count": 0,
      "outputs": [
        {
          "output_type": "stream",
          "text": [
            "The accuracy of the Logistic Regression model on the test data is: 0.75\n"
          ],
          "name": "stdout"
        }
      ]
    },
    {
      "cell_type": "code",
      "metadata": {
        "id": "JTDILokdjBFn",
        "colab_type": "code",
        "outputId": "384e4057-616c-4273-a370-8ff0a8841877",
        "colab": {
          "base_uri": "https://localhost:8080/",
          "height": 55
        }
      },
      "source": [
        "# Extract the coefficients to determine which features were most important in predicting “deposit” \n",
        "lr_crossval.bestModel.coefficients"
      ],
      "execution_count": 0,
      "outputs": [
        {
          "output_type": "execute_result",
          "data": {
            "text/plain": [
              "DenseVector([-0.029, 0.0664, 0.0, 0.3105, -0.3233, 0.0296, -0.6357, -0.8293, 0.0, 0.6921, 0.0, -0.1181, 0.1304, -0.3635, -0.6619, -0.5975, -0.2559, 1.9655, 0.0, -1.7663, 1.734, -0.2137, -1.0578])"
            ]
          },
          "metadata": {
            "tags": []
          },
          "execution_count": 34
        }
      ]
    },
    {
      "cell_type": "code",
      "metadata": {
        "id": "UVB-aEhut_Nc",
        "colab_type": "code",
        "outputId": "9d1b6120-c672-43f9-ea89-4849ae458672",
        "colab": {
          "base_uri": "https://localhost:8080/",
          "height": 416
        }
      },
      "source": [
        "# Get the names of the features to work out which ones are important in determining deposit as a label\n",
        "predictions.schema[\"featuresVec\"].metadata[\"ml_attr\"][\"attrs\"]"
      ],
      "execution_count": 0,
      "outputs": [
        {
          "output_type": "execute_result",
          "data": {
            "text/plain": [
              "{'binary': [{'idx': 0, 'name': 'jobclassVec_management'},\n",
              "  {'idx': 1, 'name': 'jobclassVec_technician'},\n",
              "  {'idx': 2, 'name': 'jobclassVec_admin.'},\n",
              "  {'idx': 3, 'name': 'jobclassVec_blue-collar'},\n",
              "  {'idx': 4, 'name': 'jobclassVec_retired'},\n",
              "  {'idx': 5, 'name': 'jobclassVec_services'},\n",
              "  {'idx': 6, 'name': 'jobclassVec_student'},\n",
              "  {'idx': 7, 'name': 'jobclassVec_unemployed'},\n",
              "  {'idx': 8, 'name': 'jobclassVec_self-employed'},\n",
              "  {'idx': 9, 'name': 'jobclassVec_entrepreneur'},\n",
              "  {'idx': 10, 'name': 'maritalclassVec_married'},\n",
              "  {'idx': 11, 'name': 'maritalclassVec_single'},\n",
              "  {'idx': 12, 'name': 'educationclassVec_secondary'},\n",
              "  {'idx': 13, 'name': 'educationclassVec_tertiary'},\n",
              "  {'idx': 14, 'name': 'defaultclassVec_no'},\n",
              "  {'idx': 15, 'name': 'housingclassVec_no'},\n",
              "  {'idx': 16, 'name': 'loanclassVec_no'},\n",
              "  {'idx': 17, 'name': 'poutcomeclassVec_failure'}],\n",
              " 'numeric': [{'idx': 18, 'name': 'age'},\n",
              "  {'idx': 19, 'name': 'balance'},\n",
              "  {'idx': 20, 'name': 'campaign'},\n",
              "  {'idx': 21, 'name': 'pdays'},\n",
              "  {'idx': 22, 'name': 'previous'}]}"
            ]
          },
          "metadata": {
            "tags": []
          },
          "execution_count": 35
        }
      ]
    },
    {
      "cell_type": "markdown",
      "metadata": {
        "id": "HreOBBseWh-7",
        "colab_type": "text"
      },
      "source": [
        "As deposit was coded as “yes” = 0 and “no” = 1 features that have a lower coefficient indicator a higher likelihood of subscribing to a term deposit and visa-versa.  As can be seen below the most important factors that increase a person subscribing to a term deposit (i.e.  <= -1) are having a high account balance (“balance”) and high number of pervious contacts from the bank (“previous”).  While lower likelihood of subscribing to a term deposit (i.e. >=1) is associated with high number of current campaign contacts (“campaign”) and past failure in the marketing campaigns (“poutcomeclassVec_failure”).\n",
        "\n",
        "Feature Name |Coefficient\n",
        "---|---|\n",
        "jobclassVec_management  |-0.029\n",
        "jobclassVec_technician  |0.0664\n",
        "jobclassVec_admin |0\n",
        "jobclassVec_blue-collar |0.3105\n",
        "jobclassVec_retired |-0.3233\n",
        "jobclassVec_services| 0.0296\n",
        "jobclassVec_student|  -0.6357\n",
        "jobclassVec_unemployed|-0.8293\n",
        "jobclassVec_self-employed|  0\n",
        "jobclassVec_entrepreneur| 0.6921\n",
        "maritalclassVec_married|  0\n",
        "maritalclassVec_single| -0.1181\n",
        "educationclassVec_secondary|  0.1304\n",
        "educationclassVec_tertiary| -0.3635\n",
        "defaultclassVec_no| -0.6619\n",
        "housingclassVec_no| -0.5975\n",
        "loanclassVec_no|  -0.2559\n",
        "poutcomeclassVec_failure| 1.9655\n",
        "age|  0\n",
        "balance |-1.7663\n",
        "campaign  |1.734\n",
        "pdays |-0.2137\n",
        "previous| -1.0578"
      ]
    },
    {
      "cell_type": "markdown",
      "metadata": {
        "colab_type": "text",
        "id": "evM5eiJoDHw2"
      },
      "source": [
        "## Decision tree\n",
        "The classification decision tree algorithm uses a given value on a variable to divide the data into different segmentations (nodes) where the purity of the nodes to a class is maximized. The algorithm will continually segment the data using the variables until all nodes contain only one class or a stopping point is reached (e.g. maximum depth of the tree)."
      ]
    },
    {
      "cell_type": "code",
      "metadata": {
        "id": "JX97KKohI3zf",
        "colab_type": "code",
        "colab": {}
      },
      "source": [
        "# import the packages\n",
        "from pyspark.ml.evaluation import MulticlassClassificationEvaluator\n",
        "from pyspark.ml.tuning import CrossValidator, ParamGridBuilder\n",
        "from pyspark.ml.classification import DecisionTreeClassifier \n",
        "\n",
        "# define the model\n",
        "tree_param = DecisionTreeClassifier(predictionCol = \"tree_predictions\", seed = 76)\n",
        "\n",
        "# set up the grid\n",
        "tree_param_grid = ParamGridBuilder() \\\n",
        "    .addGrid(tree_param.impurity, [\"gini\", \"entropy\"]) \\\n",
        "    .addGrid(tree_param.maxDepth, [5, 10, 20, 30]) \\\n",
        "    .addGrid(tree_param.maxBins, [2, 32, 100]) \\\n",
        "    .addGrid(tree_param.minInstancesPerNode, [1, 5, 20]) \\\n",
        "    .addGrid(tree_param.minInfoGain, [0, 0.01, 0.1]) \\\n",
        "    .build()\n",
        "\n",
        "# cross validate the modle with the gride values\n",
        "tree_crossval = CrossValidator(estimator = tree_param,\n",
        "                          estimatorParamMaps = tree_param_grid,\n",
        "                          evaluator = MulticlassClassificationEvaluator(predictionCol = \"tree_predictions\", metricName=\"accuracy\"),\n",
        "                          numFolds = 5,\n",
        "                          seed = 76)  \n",
        "\n",
        "# Run cross-validation, and choose the best set of parameters.\n",
        "tree_crossval = tree_crossval.fit(train)"
      ],
      "execution_count": 0,
      "outputs": []
    },
    {
      "cell_type": "code",
      "metadata": {
        "id": "as3KJvv1YWNv",
        "colab_type": "code",
        "outputId": "6c193a9d-e9ff-44ef-95bd-a2f72c4e6410",
        "colab": {
          "base_uri": "https://localhost:8080/",
          "height": 280
        }
      },
      "source": [
        "# get the paramaters of the best model\n",
        "tree_crossval.bestModel.extractParamMap()"
      ],
      "execution_count": 0,
      "outputs": [
        {
          "output_type": "execute_result",
          "data": {
            "text/plain": [
              "{Param(parent='DecisionTreeClassifier_e834e9589554', name='cacheNodeIds', doc='If false, the algorithm will pass trees to executors to match instances with nodes. If true, the algorithm will cache node IDs for each instance. Caching can speed up training of deeper trees.'): False,\n",
              " Param(parent='DecisionTreeClassifier_e834e9589554', name='checkpointInterval', doc='set checkpoint interval (>= 1) or disable checkpoint (-1). E.g. 10 means that the cache will get checkpointed every 10 iterations. Note: this setting will be ignored if the checkpoint directory is not set in the SparkContext'): 10,\n",
              " Param(parent='DecisionTreeClassifier_e834e9589554', name='featuresCol', doc='features column name'): 'features',\n",
              " Param(parent='DecisionTreeClassifier_e834e9589554', name='impurity', doc='Criterion used for information gain calculation (case-insensitive). Supported options: entropy, gini'): 'gini',\n",
              " Param(parent='DecisionTreeClassifier_e834e9589554', name='labelCol', doc='label column name'): 'label',\n",
              " Param(parent='DecisionTreeClassifier_e834e9589554', name='maxBins', doc='Max number of bins for discretizing continuous features.  Must be >=2 and >= number of categories for any categorical feature.'): 32,\n",
              " Param(parent='DecisionTreeClassifier_e834e9589554', name='maxDepth', doc='Maximum depth of the tree. (>= 0) E.g., depth 0 means 1 leaf node; depth 1 means 1 internal node + 2 leaf nodes.'): 10,\n",
              " Param(parent='DecisionTreeClassifier_e834e9589554', name='maxMemoryInMB', doc='Maximum memory in MB allocated to histogram aggregation.'): 256,\n",
              " Param(parent='DecisionTreeClassifier_e834e9589554', name='minInfoGain', doc='Minimum information gain for a split to be considered at a tree node.'): 0.01,\n",
              " Param(parent='DecisionTreeClassifier_e834e9589554', name='minInstancesPerNode', doc='Minimum number of instances each child must have after split.  If a split causes the left or right child to have fewer than minInstancesPerNode, the split will be discarded as invalid. Should be >= 1.'): 20,\n",
              " Param(parent='DecisionTreeClassifier_e834e9589554', name='predictionCol', doc='prediction column name'): 'tree_predictions',\n",
              " Param(parent='DecisionTreeClassifier_e834e9589554', name='probabilityCol', doc='Column name for predicted class conditional probabilities. Note: Not all models output well-calibrated probability estimates! These probabilities should be treated as confidences, not precise probabilities'): 'probability',\n",
              " Param(parent='DecisionTreeClassifier_e834e9589554', name='rawPredictionCol', doc='raw prediction (a.k.a. confidence) column name'): 'rawPrediction',\n",
              " Param(parent='DecisionTreeClassifier_e834e9589554', name='seed', doc='random seed'): 76}"
            ]
          },
          "metadata": {
            "tags": []
          },
          "execution_count": 37
        }
      ]
    },
    {
      "cell_type": "code",
      "metadata": {
        "colab_type": "code",
        "id": "He4mlHb7hBoY",
        "outputId": "d4fa77ad-bf59-4c47-b52a-e058bed4478b",
        "colab": {
          "base_uri": "https://localhost:8080/",
          "height": 35
        }
      },
      "source": [
        "# run over test data\n",
        "predictions = tree_crossval.transform(test)\n",
        "\n",
        "# get the accuracy on the test data\n",
        "evaluator = MulticlassClassificationEvaluator(predictionCol = \"tree_predictions\", metricName=\"accuracy\")\n",
        "print(\"The accuracy of the tree model on the test data is:\", round(evaluator.evaluate(predictions), 2))"
      ],
      "execution_count": 0,
      "outputs": [
        {
          "output_type": "stream",
          "text": [
            "The accuracy of the tree model on the test data is: 0.78\n"
          ],
          "name": "stdout"
        }
      ]
    },
    {
      "cell_type": "markdown",
      "metadata": {
        "colab_type": "text",
        "id": "CaE-Z_IlDKXF"
      },
      "source": [
        "## NaiveBayes\n",
        "Naive Bayes seeks to find which predictor categories are most probable within each outcome category, which is inverted to estimate probabilities of outcome categories, given the predictor values. It is naive in that it assumes the predictor value are independent, given the outcome category."
      ]
    },
    {
      "cell_type": "code",
      "metadata": {
        "id": "SBQR5yy_ZwX5",
        "colab_type": "code",
        "colab": {}
      },
      "source": [
        "from pyspark.ml.evaluation import MulticlassClassificationEvaluator\n",
        "from pyspark.ml.tuning import CrossValidator, ParamGridBuilder\n",
        "from pyspark.ml.classification import NaiveBayes\n",
        "\n",
        "# define the model\n",
        "nb_param = NaiveBayes(predictionCol = \"nb_predictions\")\n",
        "\n",
        "# set up the grid\n",
        "nb_param_grid = ParamGridBuilder() \\\n",
        "    .addGrid(nb_param.smoothing, [0, 0.25, 0.5, 0.75, 1]) \\\n",
        "    .build()\n",
        "\n",
        "# cross validate the modle with the grid values\n",
        "nb_crossval = CrossValidator(estimator = nb_param,\n",
        "                          estimatorParamMaps = nb_param_grid,\n",
        "                          evaluator = MulticlassClassificationEvaluator(predictionCol = \"nb_predictions\", metricName=\"accuracy\"),\n",
        "                          numFolds = 5,\n",
        "                          seed = 76)  \n",
        "\n",
        "# Run cross-validation, and choose the best set of parameters.\n",
        "nb_crossval = nb_crossval.fit(train)"
      ],
      "execution_count": 0,
      "outputs": []
    },
    {
      "cell_type": "code",
      "metadata": {
        "id": "LmoQ2l2FbvNX",
        "colab_type": "code",
        "outputId": "a73a450b-143d-418e-9cd1-085db89d3f40",
        "colab": {
          "base_uri": "https://localhost:8080/",
          "height": 159
        }
      },
      "source": [
        "# get the paramaters of the best model\n",
        "nb_crossval.bestModel.extractParamMap()"
      ],
      "execution_count": 0,
      "outputs": [
        {
          "output_type": "execute_result",
          "data": {
            "text/plain": [
              "{Param(parent='NaiveBayes_767075047cd2', name='featuresCol', doc='features column name'): 'features',\n",
              " Param(parent='NaiveBayes_767075047cd2', name='labelCol', doc='label column name'): 'label',\n",
              " Param(parent='NaiveBayes_767075047cd2', name='modelType', doc='The model type which is a string (case-sensitive). Supported options: multinomial (default) and bernoulli.'): 'multinomial',\n",
              " Param(parent='NaiveBayes_767075047cd2', name='predictionCol', doc='prediction column name'): 'nb_predictions',\n",
              " Param(parent='NaiveBayes_767075047cd2', name='probabilityCol', doc='Column name for predicted class conditional probabilities. Note: Not all models output well-calibrated probability estimates! These probabilities should be treated as confidences, not precise probabilities'): 'probability',\n",
              " Param(parent='NaiveBayes_767075047cd2', name='rawPredictionCol', doc='raw prediction (a.k.a. confidence) column name'): 'rawPrediction',\n",
              " Param(parent='NaiveBayes_767075047cd2', name='smoothing', doc='The smoothing parameter.'): 0.0}"
            ]
          },
          "metadata": {
            "tags": []
          },
          "execution_count": 40
        }
      ]
    },
    {
      "cell_type": "code",
      "metadata": {
        "id": "zMZmrKwhb39N",
        "colab_type": "code",
        "outputId": "4a43cea3-c279-4266-a7af-0471e3bd165f",
        "colab": {
          "base_uri": "https://localhost:8080/",
          "height": 35
        }
      },
      "source": [
        "# run over test data\n",
        "predictions = nb_crossval.transform(test)\n",
        "\n",
        "# get the accuracy on the test data\n",
        "evaluator = MulticlassClassificationEvaluator(predictionCol = \"nb_predictions\", metricName=\"accuracy\")\n",
        "print(\"The accuracy of the Naive Bayes model on the test data is:\", round(evaluator.evaluate(predictions), 2))"
      ],
      "execution_count": 0,
      "outputs": [
        {
          "output_type": "stream",
          "text": [
            "The accuracy of the Naive Bayes model on the test data is: 0.73\n"
          ],
          "name": "stdout"
        }
      ]
    }
  ]
}